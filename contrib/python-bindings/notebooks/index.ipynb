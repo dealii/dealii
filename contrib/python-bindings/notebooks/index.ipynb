{
 "cells": [
  {
   "cell_type": "markdown",
   "metadata": {},
   "source": [
    "# Tutorial Notebooks\n",
    "This page contains a link to every notebook as well as a short explanation on what the notebooks do.\n",
    "\n",
    "## tutorial-1\n",
    "[tutorial-1](https://github.com/dealii/dealii/tree/master/contrib/python-bindings/notebooks/tutorial-1.ipynb) shows how to create a **Triangulation** using the python binding. We also show how to refine the grid, merge two **Triangulations**, and finally how to output the **Triangulation** so that it can be loaded in a C++ code.\n",
    "\n",
    "## step-49\n",
    "[step-49](https://github.com/dealii/dealii/tree/master/examples/step-49/step-49.ipynb) shows how to import, create and transform various meshes using a variety of built-in functions.\n",
    "\n",
    "## step-53\n",
    "[step-53](https://github.com/dealii/dealii/tree/master/examples/step-53/step-53.ipynb) shows how to describe complex geometrices using manifolds. \n",
    "\n",
    "## step-62\n",
    "[step-62](https://github.com/dealii/dealii/tree/master/examples/step-62/step-62.ipynb) shows how to calculate the [energy band gap](https://en.wikipedia.org/wiki/Band_gap) and the\n",
    "mechanical resonance of a [micropillar superlattice cavity](https://doi.org/10.1103/PhysRevA.94.033813).\n"
   ]
  }
 ],
 "metadata": {
  "kernelspec": {
   "display_name": "Python 3",
   "language": "python",
   "name": "python3"
  },
  "language_info": {
   "codemirror_mode": {
    "name": "ipython",
    "version": 3
   },
   "file_extension": ".py",
   "mimetype": "text/x-python",
   "name": "python",
   "nbconvert_exporter": "python",
   "pygments_lexer": "ipython3",
   "version": "3.7.3"
  }
 },
 "nbformat": 4,
 "nbformat_minor": 4
}
